{
 "cells": [
  {
   "cell_type": "markdown",
   "metadata": {},
   "source": [
    "# PCP_HF Tool"
   ]
  },
  {
   "cell_type": "code",
   "execution_count": 3,
   "metadata": {},
   "outputs": [],
   "source": [
    "import streamlit as st\n",
    "import numpy as np\n",
    "from numpy import log as ln"
   ]
  },
  {
   "cell_type": "code",
   "execution_count": 7,
   "metadata": {},
   "outputs": [
    {
     "name": "stdout",
     "output_type": "stream",
     "text": [
      "0.9999999895305024\n"
     ]
    }
   ],
   "source": [
    "print(ln(2.7182818))"
   ]
  },
  {
   "cell_type": "code",
   "execution_count": 8,
   "metadata": {},
   "outputs": [
    {
     "name": "stderr",
     "output_type": "stream",
     "text": [
      "2022-05-27 16:00:58.290 \n",
      "  \u001b[33m\u001b[1mWarning:\u001b[0m to view this Streamlit app on a browser, run it with the following\n",
      "  command:\n",
      "\n",
      "    streamlit run /Users/david/opt/anaconda3/lib/python3.9/site-packages/ipykernel_launcher.py [ARGUMENTS]\n"
     ]
    },
    {
     "ename": "TypeError",
     "evalue": "ufunc 'log' not supported for the input types, and the inputs could not be safely coerced to any supported types according to the casting rule ''safe''",
     "output_type": "error",
     "traceback": [
      "\u001b[0;31m---------------------------------------------------------------------------\u001b[0m",
      "\u001b[0;31mTypeError\u001b[0m                                 Traceback (most recent call last)",
      "\u001b[0;32m/var/folders/f8/tlfj8y0j00x50st8zv23lnl40000gn/T/ipykernel_87308/265854940.py\u001b[0m in \u001b[0;36m<module>\u001b[0;34m\u001b[0m\n\u001b[1;32m     27\u001b[0m \u001b[0magelnsqd\u001b[0m \u001b[0;34m=\u001b[0m \u001b[0mageln\u001b[0m\u001b[0;34m**\u001b[0m\u001b[0;36m2\u001b[0m\u001b[0;34m\u001b[0m\u001b[0;34m\u001b[0m\u001b[0m\n\u001b[1;32m     28\u001b[0m \u001b[0;34m\u001b[0m\u001b[0m\n\u001b[0;32m---> 29\u001b[0;31m \u001b[0mtsbpln\u001b[0m \u001b[0;34m=\u001b[0m \u001b[0mln\u001b[0m\u001b[0;34m(\u001b[0m\u001b[0mtsbp_input\u001b[0m\u001b[0;34m)\u001b[0m\u001b[0;34m\u001b[0m\u001b[0;34m\u001b[0m\u001b[0m\n\u001b[0m\u001b[1;32m     30\u001b[0m \u001b[0;34m\u001b[0m\u001b[0m\n\u001b[1;32m     31\u001b[0m \u001b[0magextsbp\u001b[0m \u001b[0;34m=\u001b[0m \u001b[0mageln\u001b[0m \u001b[0;34m*\u001b[0m \u001b[0mtsbpln\u001b[0m\u001b[0;34m\u001b[0m\u001b[0;34m\u001b[0m\u001b[0m\n",
      "\u001b[0;31mTypeError\u001b[0m: ufunc 'log' not supported for the input types, and the inputs could not be safely coerced to any supported types according to the casting rule ''safe''"
     ]
    }
   ],
   "source": [
    "st.title(\"PCP HF Risk Calculator\")\n",
    "st.write('*Use pounds and inches!!!*')\n",
    "\n",
    "age_input = st.text_input(\"Please enter the patient's age.\")\n",
    "weight_input = st.text_input('Please enter the weight in pounds:')\n",
    "height_input = st.text_input('Please enter the height in pounds:')\n",
    "tsbp_input = st.text_input('Please enter the weight in pounds:')\n",
    "usbp_input = st.text_input('Please enter the weight in pounds:')\n",
    "cur_smoker_input = st.text_input('Please enter the weight in pounds:')\n",
    "tglucose_input = st.text_input('Please enter the weight in pounds:')\n",
    "uglucose_input = st.text_input('Please enter the weight in pounds:')\n",
    "totchol_input = st.text_input('Please enter the weight in pounds:')\n",
    "hdl_input = st.text_input('Please enter the weight in pounds:')\n",
    "tsbpln = st.text_input('Please enter the weight in pounds:')\n",
    "tsbpln = st.text_input('Please enter the weight in pounds:')\n",
    "tsbpln = st.text_input('Please enter the weight in pounds:')\n",
    "tsbpln = st.text_input('Please enter the weight in pounds:')\n",
    "tsbpln = st.text_input('Please enter the weight in pounds:')\n",
    "\n",
    "\n",
    "\n",
    "age_input = 50\n",
    "\n",
    "\n",
    "ageln = ln(age_input)\n",
    "\n",
    "agelnsqd = ageln**2\n",
    "\n",
    "tsbpln = ln(tsbp_input)\n",
    "\n",
    "agextsbp = ageln * tsbpln\n",
    "\n",
    "usbpln = ln(usbp_input)\n",
    "\n",
    "agexusbp = ageln + usbpln\n",
    "\n",
    "current_smoker = cur_smoker_input\n",
    "\n",
    "agexcursmok = ageln * current_smoker\n",
    "\n",
    "tglucoseln = ln(tglucose_input)\n",
    "\n",
    "uglucoseln = ln(uglucose_input)\n",
    "\n",
    "tcholln = ln(totchol_input)\n",
    "\n",
    "hdlln = ln(hdl_input)\n",
    "\n",
    "BMIln=ln(bmi_input)\n",
    "\n",
    "agelnxbmilin = ageln * BMIln\n",
    "\n",
    "qrsln = ln(qrs_input)\n",
    "\n",
    "\n"
   ]
  },
  {
   "cell_type": "code",
   "execution_count": null,
   "metadata": {},
   "outputs": [],
   "source": []
  }
 ],
 "metadata": {
  "interpreter": {
   "hash": "ca3d29f37a1a1c4f5e7a988c75b7db15a8dc84e630022593e41cd81ca2ea4c4a"
  },
  "kernelspec": {
   "display_name": "Python 3.9.7 ('base')",
   "language": "python",
   "name": "python3"
  },
  "language_info": {
   "codemirror_mode": {
    "name": "ipython",
    "version": 3
   },
   "file_extension": ".py",
   "mimetype": "text/x-python",
   "name": "python",
   "nbconvert_exporter": "python",
   "pygments_lexer": "ipython3",
   "version": "3.9.7"
  },
  "orig_nbformat": 4
 },
 "nbformat": 4,
 "nbformat_minor": 2
}
